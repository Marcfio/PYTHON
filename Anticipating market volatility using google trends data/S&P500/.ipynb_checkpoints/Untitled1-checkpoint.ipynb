{
 "cells": [
  {
   "cell_type": "code",
   "execution_count": 1,
   "metadata": {},
   "outputs": [
    {
     "name": "stdout",
     "output_type": "stream",
     "text": [
      "Starting Portfolio Value: 1540000.00\n",
      "Final Portfolio Value: 1540000.00\n"
     ]
    }
   ],
   "source": [
    "from __future__ import (absolute_import, division, print_function,\n",
    "                        unicode_literals)\n",
    "import backtrader as bt\n",
    "import datetime\n",
    "import backtrader.feeds as btfeeds\n",
    "\n",
    "\n",
    "class TestStrategy(bt.Strategy):\n",
    "\n",
    "    def __init__(self):\n",
    "        # Keep a reference to the \"close\" line in the data[0] dataseries\n",
    "        self.dataclose = self.datas[0].close\n",
    "\n",
    "    \n",
    "    def log(self, txt, dt=None):\n",
    "        ''' Logging function for this strategy'''\n",
    "        dt = dt or self.datas[0].datetime.date(0)\n",
    "        print('%s, %s' % (dt.isoformat(), txt))\n",
    "\n",
    "\n",
    "    def next(self):\n",
    "        # Simply log the closing price of the series from the reference\n",
    "        self.log('Close, %.2f' % self.dataclose[0])\n",
    "\n",
    "#        if self.dataclose[3] < 1000:\n",
    "                # current close less than previous close\n",
    "\n",
    "#                 if self.dataclose[-1] < selfdataclose[-2]:\n",
    "#                     # previous close less than the previous close\n",
    "\n",
    "                # BUY, BUY, BUY!!! (with all possible default parameters)\n",
    "        self.log('BUY CREATE, %.2f' % self.dataclose[15])\n",
    "        self.buy()\n",
    "\n",
    "        \n",
    "if __name__ == '__main__':\n",
    "    cerebro = bt.Cerebro()\n",
    "    \n",
    "    data = btfeeds.GenericCSVData(\n",
    "    dataname='S&P500.csv',\n",
    "\n",
    "    fromdate=datetime.datetime(2019, 1, 1),\n",
    "    todate=datetime.datetime(2019, 12, 31),\n",
    "\n",
    "    nullvalue=0.0,\n",
    "\n",
    "    dtformat=('%Y-%m-%d'),\n",
    "  \n",
    "    datetime=0,\n",
    "    open=1,\n",
    "    high=2,\n",
    "    low=3,\n",
    "\n",
    "    close=4,\n",
    "    volume=5,\n",
    "\n",
    "        )\n",
    "\n",
    "    \n",
    "    cerebro.adddata(data)\n",
    "    \n",
    "    \n",
    "    \n",
    "    \n",
    "    \n",
    "    \n",
    "    cerebro.addstrategy(TestStrategy)\n",
    "\n",
    "    \n",
    "    \n",
    "\n",
    "\n",
    "    # Set our desired cash start\n",
    "    cerebro.broker.setcash(1540000.0)\n",
    "    \n",
    "    print('Starting Portfolio Value: %.2f' % cerebro.broker.getvalue())\n",
    "\n",
    "    cerebro.run()\n",
    "\n",
    "    print('Final Portfolio Value: %.2f' % cerebro.broker.getvalue())\n",
    "    \n",
    "#    cerebro.plot()"
   ]
  },
  {
   "cell_type": "code",
   "execution_count": null,
   "metadata": {},
   "outputs": [],
   "source": []
  },
  {
   "cell_type": "code",
   "execution_count": null,
   "metadata": {},
   "outputs": [],
   "source": []
  },
  {
   "cell_type": "code",
   "execution_count": null,
   "metadata": {},
   "outputs": [],
   "source": []
  },
  {
   "cell_type": "code",
   "execution_count": null,
   "metadata": {},
   "outputs": [],
   "source": []
  },
  {
   "cell_type": "code",
   "execution_count": null,
   "metadata": {},
   "outputs": [],
   "source": []
  },
  {
   "cell_type": "code",
   "execution_count": null,
   "metadata": {},
   "outputs": [],
   "source": []
  },
  {
   "cell_type": "code",
   "execution_count": null,
   "metadata": {},
   "outputs": [],
   "source": []
  },
  {
   "cell_type": "code",
   "execution_count": null,
   "metadata": {},
   "outputs": [],
   "source": []
  },
  {
   "cell_type": "code",
   "execution_count": null,
   "metadata": {},
   "outputs": [],
   "source": []
  },
  {
   "cell_type": "code",
   "execution_count": null,
   "metadata": {},
   "outputs": [],
   "source": []
  },
  {
   "cell_type": "code",
   "execution_count": null,
   "metadata": {},
   "outputs": [],
   "source": []
  }
 ],
 "metadata": {
  "kernelspec": {
   "display_name": "Python 3",
   "language": "python",
   "name": "python3"
  },
  "language_info": {
   "codemirror_mode": {
    "name": "ipython",
    "version": 3
   },
   "file_extension": ".py",
   "mimetype": "text/x-python",
   "name": "python",
   "nbconvert_exporter": "python",
   "pygments_lexer": "ipython3",
   "version": "3.7.6"
  }
 },
 "nbformat": 4,
 "nbformat_minor": 4
}
